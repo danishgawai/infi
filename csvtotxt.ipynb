{
  "nbformat": 4,
  "nbformat_minor": 0,
  "metadata": {
    "colab": {
      "name": "csvtotxt.ipynb",
      "provenance": [],
      "collapsed_sections": []
    },
    "kernelspec": {
      "name": "python3",
      "display_name": "Python 3"
    },
    "accelerator": "GPU"
  },
  "cells": [
    {
      "cell_type": "code",
      "metadata": {
        "id": "PBUVIoxBfQBa"
      },
      "source": [
        "!git clone https://github.com/tensorflow/models.git"
      ],
      "execution_count": null,
      "outputs": []
    },
    {
      "cell_type": "code",
      "metadata": {
        "colab": {
          "base_uri": "https://localhost:8080/"
        },
        "id": "nStydW8Mfq_q",
        "outputId": "3905347e-027e-41f0-d0eb-652fd68e7f53"
      },
      "source": [
        "from google.colab import drive\r\n",
        "drive.mount('/content/drive')\r\n"
      ],
      "execution_count": null,
      "outputs": [
        {
          "output_type": "stream",
          "text": [
            "Mounted at /content/drive\n"
          ],
          "name": "stdout"
        }
      ]
    },
    {
      "cell_type": "code",
      "metadata": {
        "id": "XBg2Nnwyi9Ba"
      },
      "source": [
        "import pandas as pd\r\n",
        "df = pd.read_csv(\"/content/trainnormalized.csv\")"
      ],
      "execution_count": null,
      "outputs": []
    },
    {
      "cell_type": "code",
      "metadata": {
        "colab": {
          "base_uri": "https://localhost:8080/"
        },
        "id": "zgMdhwX156y1",
        "outputId": "6b04da2f-f8ed-4cae-9da0-731a90bf9bd4"
      },
      "source": [
        "len(df)"
      ],
      "execution_count": null,
      "outputs": [
        {
          "output_type": "execute_result",
          "data": {
            "text/plain": [
              "10536"
            ]
          },
          "metadata": {
            "tags": []
          },
          "execution_count": 12
        }
      ]
    },
    {
      "cell_type": "code",
      "metadata": {
        "colab": {
          "base_uri": "https://localhost:8080/",
          "height": 198
        },
        "id": "f1Alq7ZFL2qj",
        "outputId": "c0cd0426-b1c8-4de0-daa0-7ec267bfd1cd"
      },
      "source": [
        "df.drop([\"Unnamed: 0\"],axis=1,inplace=True)\r\n",
        "df.head()"
      ],
      "execution_count": null,
      "outputs": [
        {
          "output_type": "execute_result",
          "data": {
            "text/html": [
              "<div>\n",
              "<style scoped>\n",
              "    .dataframe tbody tr th:only-of-type {\n",
              "        vertical-align: middle;\n",
              "    }\n",
              "\n",
              "    .dataframe tbody tr th {\n",
              "        vertical-align: top;\n",
              "    }\n",
              "\n",
              "    .dataframe thead th {\n",
              "        text-align: right;\n",
              "    }\n",
              "</style>\n",
              "<table border=\"1\" class=\"dataframe\">\n",
              "  <thead>\n",
              "    <tr style=\"text-align: right;\">\n",
              "      <th></th>\n",
              "      <th>image_name</th>\n",
              "      <th>b_i</th>\n",
              "      <th>xi</th>\n",
              "      <th>yi</th>\n",
              "      <th>wi</th>\n",
              "      <th>hi</th>\n",
              "    </tr>\n",
              "  </thead>\n",
              "  <tbody>\n",
              "    <tr>\n",
              "      <th>0</th>\n",
              "      <td>C1_P01_N1_S2_1.JPG</td>\n",
              "      <td>0</td>\n",
              "      <td>0.739545</td>\n",
              "      <td>0.709324</td>\n",
              "      <td>0.924431</td>\n",
              "      <td>0.881170</td>\n",
              "    </tr>\n",
              "    <tr>\n",
              "      <th>1</th>\n",
              "      <td>C1_P01_N1_S2_1.JPG</td>\n",
              "      <td>0</td>\n",
              "      <td>0.754219</td>\n",
              "      <td>0.424132</td>\n",
              "      <td>0.939105</td>\n",
              "      <td>0.595978</td>\n",
              "    </tr>\n",
              "    <tr>\n",
              "      <th>2</th>\n",
              "      <td>C1_P01_N1_S2_1.JPG</td>\n",
              "      <td>0</td>\n",
              "      <td>0.017608</td>\n",
              "      <td>0.398537</td>\n",
              "      <td>0.196625</td>\n",
              "      <td>0.577697</td>\n",
              "    </tr>\n",
              "    <tr>\n",
              "      <th>3</th>\n",
              "      <td>C1_P01_N1_S2_1.JPG</td>\n",
              "      <td>0</td>\n",
              "      <td>0.205429</td>\n",
              "      <td>0.716636</td>\n",
              "      <td>0.390315</td>\n",
              "      <td>0.888483</td>\n",
              "    </tr>\n",
              "    <tr>\n",
              "      <th>4</th>\n",
              "      <td>C1_P01_N1_S2_1.JPG</td>\n",
              "      <td>0</td>\n",
              "      <td>0.214233</td>\n",
              "      <td>0.398537</td>\n",
              "      <td>0.399120</td>\n",
              "      <td>0.570384</td>\n",
              "    </tr>\n",
              "  </tbody>\n",
              "</table>\n",
              "</div>"
            ],
            "text/plain": [
              "           image_name  b_i        xi        yi        wi        hi\n",
              "0  C1_P01_N1_S2_1.JPG    0  0.739545  0.709324  0.924431  0.881170\n",
              "1  C1_P01_N1_S2_1.JPG    0  0.754219  0.424132  0.939105  0.595978\n",
              "2  C1_P01_N1_S2_1.JPG    0  0.017608  0.398537  0.196625  0.577697\n",
              "3  C1_P01_N1_S2_1.JPG    0  0.205429  0.716636  0.390315  0.888483\n",
              "4  C1_P01_N1_S2_1.JPG    0  0.214233  0.398537  0.399120  0.570384"
            ]
          },
          "metadata": {
            "tags": []
          },
          "execution_count": 13
        }
      ]
    },
    {
      "cell_type": "code",
      "metadata": {
        "colab": {
          "base_uri": "https://localhost:8080/",
          "height": 198
        },
        "id": "JXhwp4SE-aFy",
        "outputId": "219b130d-335b-45ef-f49e-734079849318"
      },
      "source": [
        "df.tail()"
      ],
      "execution_count": null,
      "outputs": [
        {
          "output_type": "execute_result",
          "data": {
            "text/html": [
              "<div>\n",
              "<style scoped>\n",
              "    .dataframe tbody tr th:only-of-type {\n",
              "        vertical-align: middle;\n",
              "    }\n",
              "\n",
              "    .dataframe tbody tr th {\n",
              "        vertical-align: top;\n",
              "    }\n",
              "\n",
              "    .dataframe thead th {\n",
              "        text-align: right;\n",
              "    }\n",
              "</style>\n",
              "<table border=\"1\" class=\"dataframe\">\n",
              "  <thead>\n",
              "    <tr style=\"text-align: right;\">\n",
              "      <th></th>\n",
              "      <th>image_name</th>\n",
              "      <th>x_i</th>\n",
              "      <th>y_i</th>\n",
              "      <th>w_i</th>\n",
              "      <th>h_i</th>\n",
              "      <th>b_i</th>\n",
              "    </tr>\n",
              "  </thead>\n",
              "  <tbody>\n",
              "    <tr>\n",
              "      <th>2643</th>\n",
              "      <td>C4_P08_N3_S3_1.JPG</td>\n",
              "      <td>996</td>\n",
              "      <td>1524</td>\n",
              "      <td>1212</td>\n",
              "      <td>1872</td>\n",
              "      <td>0</td>\n",
              "    </tr>\n",
              "    <tr>\n",
              "      <th>2644</th>\n",
              "      <td>C4_P08_N3_S3_1.JPG</td>\n",
              "      <td>1700</td>\n",
              "      <td>264</td>\n",
              "      <td>1952</td>\n",
              "      <td>652</td>\n",
              "      <td>2</td>\n",
              "    </tr>\n",
              "    <tr>\n",
              "      <th>2645</th>\n",
              "      <td>C4_P08_N3_S3_1.JPG</td>\n",
              "      <td>1928</td>\n",
              "      <td>264</td>\n",
              "      <td>2180</td>\n",
              "      <td>652</td>\n",
              "      <td>2</td>\n",
              "    </tr>\n",
              "    <tr>\n",
              "      <th>2646</th>\n",
              "      <td>C4_P08_N3_S3_1.JPG</td>\n",
              "      <td>1440</td>\n",
              "      <td>1556</td>\n",
              "      <td>1648</td>\n",
              "      <td>1856</td>\n",
              "      <td>9</td>\n",
              "    </tr>\n",
              "    <tr>\n",
              "      <th>2647</th>\n",
              "      <td>C4_P08_N3_S3_1.JPG</td>\n",
              "      <td>1656</td>\n",
              "      <td>1552</td>\n",
              "      <td>1864</td>\n",
              "      <td>1852</td>\n",
              "      <td>9</td>\n",
              "    </tr>\n",
              "  </tbody>\n",
              "</table>\n",
              "</div>"
            ],
            "text/plain": [
              "              image_name   x_i   y_i   w_i   h_i  b_i\n",
              "2643  C4_P08_N3_S3_1.JPG   996  1524  1212  1872    0\n",
              "2644  C4_P08_N3_S3_1.JPG  1700   264  1952   652    2\n",
              "2645  C4_P08_N3_S3_1.JPG  1928   264  2180   652    2\n",
              "2646  C4_P08_N3_S3_1.JPG  1440  1556  1648  1856    9\n",
              "2647  C4_P08_N3_S3_1.JPG  1656  1552  1864  1852    9"
            ]
          },
          "metadata": {
            "tags": []
          },
          "execution_count": 4
        }
      ]
    },
    {
      "cell_type": "code",
      "metadata": {
        "colab": {
          "base_uri": "https://localhost:8080/"
        },
        "id": "PzJ4DkT37rnd",
        "outputId": "444080fe-8da8-4421-d716-157ecc35b0eb"
      },
      "source": [
        "df00 = df[df[\"image_name\"] == \"C1_P01_N1_S2_1.JPG\"]\r\n",
        "len(df00)"
      ],
      "execution_count": null,
      "outputs": [
        {
          "output_type": "execute_result",
          "data": {
            "text/plain": [
              "0"
            ]
          },
          "metadata": {
            "tags": []
          },
          "execution_count": 5
        }
      ]
    },
    {
      "cell_type": "code",
      "metadata": {
        "id": "jOw34G5nL65i"
      },
      "source": [
        "dft = df.T "
      ],
      "execution_count": null,
      "outputs": []
    },
    {
      "cell_type": "code",
      "metadata": {
        "colab": {
          "base_uri": "https://localhost:8080/"
        },
        "id": "1CLaywHeQpJ_",
        "outputId": "05ebec2e-56fa-4207-a1c5-27df6a72822e"
      },
      "source": [
        "len(df.image_name.unique())"
      ],
      "execution_count": null,
      "outputs": [
        {
          "output_type": "execute_result",
          "data": {
            "text/plain": [
              "283"
            ]
          },
          "metadata": {
            "tags": []
          },
          "execution_count": 14
        }
      ]
    },
    {
      "cell_type": "code",
      "metadata": {
        "colab": {
          "base_uri": "https://localhost:8080/",
          "height": 35
        },
        "id": "baNTWP639MXI",
        "outputId": "9d850769-b65e-4375-a143-cb32bc15d74f"
      },
      "source": [
        "Uvalues = df.image_name.unique()\r\n",
        "Uvalues[0]"
      ],
      "execution_count": null,
      "outputs": [
        {
          "output_type": "execute_result",
          "data": {
            "application/vnd.google.colaboratory.intrinsic+json": {
              "type": "string"
            },
            "text/plain": [
              "'C1_P01_N1_S2_1.JPG'"
            ]
          },
          "metadata": {
            "tags": []
          },
          "execution_count": 15
        }
      ]
    },
    {
      "cell_type": "code",
      "metadata": {
        "id": "lfJ8HZUzmz1Z"
      },
      "source": [
        "for img_name in range(len(Uvalues)):\r\n",
        "  filenameL = Uvalues[img_name].split(\".\")[0]\r\n",
        "  tempfile = open(\"/content/train/\" +filenameL + \".txt\",\"a+\")\r\n",
        "  for i in range(len(df)):\r\n",
        "    filenameI = df.image_name[i].split(\".\")[0]\r\n",
        "    if filenameL == filenameI :\r\n",
        "      fline = str(df.b_i[i])+\" \"+str(df.xi[i])+\" \"+str(df.yi[i])+\" \"+str(df.wi[i])+\" \"+str(df.hi[i])+\"\\n\"\r\n",
        "      tempfile.writelines(fline) \r\n",
        "\r\n",
        "  tempfile.close()"
      ],
      "execution_count": null,
      "outputs": []
    },
    {
      "cell_type": "code",
      "metadata": {
        "id": "SJmRZ7Wn1_t0"
      },
      "source": [
        "#filenameL = img_name.split(\".\")[0]\r\n",
        "tempfile = open(\"test.txt\",\"w\")\r\n",
        "tempfile.write(\"created \\n\")\r\n",
        "for i in range(len(df)):\r\n",
        "  filenameI = df.image_name[i].split(\".\")[0]\r\n",
        "  if filenameL == filenameI :\r\n",
        "    tempfile.write(\"written \\n\")\r\n",
        "#    fline = str(df.b_i[value])+\" \"+str(df.x_i[value])+\" \"+str(df.y_i[value])+\" \"+str(df.w_i[value])+\" \"+str(df.h_i[value])+\"\\n\"\r\n",
        "#    tempfile.write(\"written \\n\")\r\n"
      ],
      "execution_count": null,
      "outputs": []
    },
    {
      "cell_type": "code",
      "metadata": {
        "id": "OFwmGF9q7NCJ"
      },
      "source": [
        ""
      ],
      "execution_count": null,
      "outputs": []
    }
  ]
}